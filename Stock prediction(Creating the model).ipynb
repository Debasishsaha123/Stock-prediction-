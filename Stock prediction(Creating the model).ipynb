{
 "cells": [
  {
   "cell_type": "code",
   "execution_count": 1,
   "id": "694393dd",
   "metadata": {},
   "outputs": [],
   "source": [
    "import pandas as pd\n",
    "import matplotlib.pyplot as plt\n",
    "import datetime\n",
    "import numpy as np"
   ]
  },
  {
   "cell_type": "code",
   "execution_count": 2,
   "id": "1ea1af83",
   "metadata": {},
   "outputs": [],
   "source": [
    "df=pd.read_csv('Google_Stock_Price_Train.csv',index_col='Date',parse_dates=True)"
   ]
  },
  {
   "cell_type": "code",
   "execution_count": 3,
   "id": "2006fc8a",
   "metadata": {},
   "outputs": [
    {
     "data": {
      "text/html": [
       "<div>\n",
       "<style scoped>\n",
       "    .dataframe tbody tr th:only-of-type {\n",
       "        vertical-align: middle;\n",
       "    }\n",
       "\n",
       "    .dataframe tbody tr th {\n",
       "        vertical-align: top;\n",
       "    }\n",
       "\n",
       "    .dataframe thead th {\n",
       "        text-align: right;\n",
       "    }\n",
       "</style>\n",
       "<table border=\"1\" class=\"dataframe\">\n",
       "  <thead>\n",
       "    <tr style=\"text-align: right;\">\n",
       "      <th></th>\n",
       "      <th>Open</th>\n",
       "      <th>High</th>\n",
       "      <th>Low</th>\n",
       "      <th>Close</th>\n",
       "      <th>Volume</th>\n",
       "    </tr>\n",
       "    <tr>\n",
       "      <th>Date</th>\n",
       "      <th></th>\n",
       "      <th></th>\n",
       "      <th></th>\n",
       "      <th></th>\n",
       "      <th></th>\n",
       "    </tr>\n",
       "  </thead>\n",
       "  <tbody>\n",
       "    <tr>\n",
       "      <th>2012-01-03</th>\n",
       "      <td>325.25</td>\n",
       "      <td>332.83</td>\n",
       "      <td>324.97</td>\n",
       "      <td>663.59</td>\n",
       "      <td>7,380,500</td>\n",
       "    </tr>\n",
       "    <tr>\n",
       "      <th>2012-01-04</th>\n",
       "      <td>331.27</td>\n",
       "      <td>333.87</td>\n",
       "      <td>329.08</td>\n",
       "      <td>666.45</td>\n",
       "      <td>5,749,400</td>\n",
       "    </tr>\n",
       "    <tr>\n",
       "      <th>2012-01-05</th>\n",
       "      <td>329.83</td>\n",
       "      <td>330.75</td>\n",
       "      <td>326.89</td>\n",
       "      <td>657.21</td>\n",
       "      <td>6,590,300</td>\n",
       "    </tr>\n",
       "    <tr>\n",
       "      <th>2012-01-06</th>\n",
       "      <td>328.34</td>\n",
       "      <td>328.77</td>\n",
       "      <td>323.68</td>\n",
       "      <td>648.24</td>\n",
       "      <td>5,405,900</td>\n",
       "    </tr>\n",
       "    <tr>\n",
       "      <th>2012-01-09</th>\n",
       "      <td>322.04</td>\n",
       "      <td>322.29</td>\n",
       "      <td>309.46</td>\n",
       "      <td>620.76</td>\n",
       "      <td>11,688,800</td>\n",
       "    </tr>\n",
       "  </tbody>\n",
       "</table>\n",
       "</div>"
      ],
      "text/plain": [
       "              Open    High     Low   Close      Volume\n",
       "Date                                                  \n",
       "2012-01-03  325.25  332.83  324.97  663.59   7,380,500\n",
       "2012-01-04  331.27  333.87  329.08  666.45   5,749,400\n",
       "2012-01-05  329.83  330.75  326.89  657.21   6,590,300\n",
       "2012-01-06  328.34  328.77  323.68  648.24   5,405,900\n",
       "2012-01-09  322.04  322.29  309.46  620.76  11,688,800"
      ]
     },
     "execution_count": 3,
     "metadata": {},
     "output_type": "execute_result"
    }
   ],
   "source": [
    "df.head()"
   ]
  },
  {
   "cell_type": "code",
   "execution_count": 4,
   "id": "9d381785",
   "metadata": {},
   "outputs": [
    {
     "data": {
      "text/plain": [
       "(1258, 5)"
      ]
     },
     "execution_count": 4,
     "metadata": {},
     "output_type": "execute_result"
    }
   ],
   "source": [
    "df.shape"
   ]
  },
  {
   "cell_type": "code",
   "execution_count": 5,
   "id": "5bc6f1f9",
   "metadata": {},
   "outputs": [
    {
     "data": {
      "text/plain": [
       "Open      False\n",
       "High      False\n",
       "Low       False\n",
       "Close     False\n",
       "Volume    False\n",
       "dtype: bool"
      ]
     },
     "execution_count": 5,
     "metadata": {},
     "output_type": "execute_result"
    }
   ],
   "source": [
    "df.isna().any()"
   ]
  },
  {
   "cell_type": "code",
   "execution_count": 6,
   "id": "4d92a289",
   "metadata": {},
   "outputs": [],
   "source": [
    "#Changing the datatype of close and volume t ofloat\n",
    "df['Close']=df['Close'].str.replace(',','').astype(float)\n",
    "df['Volume']=df['Volume'].str.replace(',','').astype(float)"
   ]
  },
  {
   "cell_type": "code",
   "execution_count": 7,
   "id": "976eb21c",
   "metadata": {},
   "outputs": [],
   "source": [
    "training_set=df['Open']\n",
    "training_set=pd.DataFrame(training_set)"
   ]
  },
  {
   "cell_type": "code",
   "execution_count": 8,
   "id": "02f43585",
   "metadata": {},
   "outputs": [],
   "source": [
    "from sklearn.preprocessing import MinMaxScaler\n",
    "sc=MinMaxScaler(feature_range=(0,1))\n",
    "training_set_scaled=sc.fit_transform(training_set)"
   ]
  },
  {
   "cell_type": "code",
   "execution_count": 9,
   "id": "e5129a16",
   "metadata": {},
   "outputs": [
    {
     "data": {
      "text/html": [
       "<div>\n",
       "<style scoped>\n",
       "    .dataframe tbody tr th:only-of-type {\n",
       "        vertical-align: middle;\n",
       "    }\n",
       "\n",
       "    .dataframe tbody tr th {\n",
       "        vertical-align: top;\n",
       "    }\n",
       "\n",
       "    .dataframe thead th {\n",
       "        text-align: right;\n",
       "    }\n",
       "</style>\n",
       "<table border=\"1\" class=\"dataframe\">\n",
       "  <thead>\n",
       "    <tr style=\"text-align: right;\">\n",
       "      <th></th>\n",
       "      <th>Open</th>\n",
       "    </tr>\n",
       "    <tr>\n",
       "      <th>Date</th>\n",
       "      <th></th>\n",
       "    </tr>\n",
       "  </thead>\n",
       "  <tbody>\n",
       "    <tr>\n",
       "      <th>2012-01-03</th>\n",
       "      <td>325.25</td>\n",
       "    </tr>\n",
       "    <tr>\n",
       "      <th>2012-01-04</th>\n",
       "      <td>331.27</td>\n",
       "    </tr>\n",
       "    <tr>\n",
       "      <th>2012-01-05</th>\n",
       "      <td>329.83</td>\n",
       "    </tr>\n",
       "    <tr>\n",
       "      <th>2012-01-06</th>\n",
       "      <td>328.34</td>\n",
       "    </tr>\n",
       "    <tr>\n",
       "      <th>2012-01-09</th>\n",
       "      <td>322.04</td>\n",
       "    </tr>\n",
       "    <tr>\n",
       "      <th>...</th>\n",
       "      <td>...</td>\n",
       "    </tr>\n",
       "    <tr>\n",
       "      <th>2016-12-23</th>\n",
       "      <td>790.90</td>\n",
       "    </tr>\n",
       "    <tr>\n",
       "      <th>2016-12-27</th>\n",
       "      <td>790.68</td>\n",
       "    </tr>\n",
       "    <tr>\n",
       "      <th>2016-12-28</th>\n",
       "      <td>793.70</td>\n",
       "    </tr>\n",
       "    <tr>\n",
       "      <th>2016-12-29</th>\n",
       "      <td>783.33</td>\n",
       "    </tr>\n",
       "    <tr>\n",
       "      <th>2016-12-30</th>\n",
       "      <td>782.75</td>\n",
       "    </tr>\n",
       "  </tbody>\n",
       "</table>\n",
       "<p>1258 rows × 1 columns</p>\n",
       "</div>"
      ],
      "text/plain": [
       "              Open\n",
       "Date              \n",
       "2012-01-03  325.25\n",
       "2012-01-04  331.27\n",
       "2012-01-05  329.83\n",
       "2012-01-06  328.34\n",
       "2012-01-09  322.04\n",
       "...            ...\n",
       "2016-12-23  790.90\n",
       "2016-12-27  790.68\n",
       "2016-12-28  793.70\n",
       "2016-12-29  783.33\n",
       "2016-12-30  782.75\n",
       "\n",
       "[1258 rows x 1 columns]"
      ]
     },
     "execution_count": 9,
     "metadata": {},
     "output_type": "execute_result"
    }
   ],
   "source": [
    "training_set"
   ]
  },
  {
   "cell_type": "code",
   "execution_count": 10,
   "id": "cd135ef8",
   "metadata": {},
   "outputs": [
    {
     "data": {
      "text/plain": [
       "array([[0.08581368],\n",
       "       [0.09701243],\n",
       "       [0.09433366],\n",
       "       ...,\n",
       "       [0.95725128],\n",
       "       [0.93796041],\n",
       "       [0.93688146]])"
      ]
     },
     "execution_count": 10,
     "metadata": {},
     "output_type": "execute_result"
    }
   ],
   "source": [
    "training_set_scaled"
   ]
  },
  {
   "cell_type": "code",
   "execution_count": 12,
   "id": "b948c203",
   "metadata": {},
   "outputs": [],
   "source": [
    "#creating a data structure with 100 time steps and 1 output\n",
    "X_train=[]\n",
    "y_train=[]\n",
    "for i in range(100,1258):\n",
    "    X_train.append(training_set_scaled[i-100:i,0])\n",
    "    y_train.append(training_set_scaled[i,0])\n",
    "X_train,y_train=np.array(X_train),np.array(y_train)\n"
   ]
  },
  {
   "cell_type": "code",
   "execution_count": 14,
   "id": "082b2dbf",
   "metadata": {},
   "outputs": [],
   "source": [
    "#reshaping \n",
    "X_train=np.reshape(X_train,(X_train.shape[0],X_train.shape[1],1))"
   ]
  },
  {
   "cell_type": "code",
   "execution_count": 15,
   "id": "b0cec70d",
   "metadata": {},
   "outputs": [
    {
     "data": {
      "text/plain": [
       "(1158, 100, 1)"
      ]
     },
     "execution_count": 15,
     "metadata": {},
     "output_type": "execute_result"
    }
   ],
   "source": [
    "X_train.shape"
   ]
  },
  {
   "cell_type": "code",
   "execution_count": 16,
   "id": "33e00a28",
   "metadata": {},
   "outputs": [],
   "source": [
    "import tensorflow as tf\n",
    "from tensorflow.keras.models import Sequential\n",
    "from tensorflow.keras.layers import Dense\n",
    "from tensorflow.keras.layers import LSTM\n",
    "from tensorflow.keras.layers import Dropout"
   ]
  },
  {
   "cell_type": "code",
   "execution_count": 18,
   "id": "14b26660",
   "metadata": {},
   "outputs": [],
   "source": [
    "#creating the model RNN\n",
    "model = Sequential()\n",
    "#adding the first LSTM layer\n",
    "model.add(LSTM(units=50,return_sequences=True,input_shape=(X_train.shape[1],1)))\n",
    "model.add(Dropout(0.2))\n",
    "\n",
    "#adding the second LSTM layer\n",
    "model.add(LSTM(units=50,return_sequences=True))\n",
    "model.add(Dropout(0.2))\n",
    "\n",
    "#adding the third LSTM layer\n",
    "model.add(LSTM(units=50,return_sequences=True))\n",
    "model.add(Dropout(0.2))\n",
    "\n",
    "#adding the fourth LSTM layer\n",
    "model.add(LSTM(units=50))\n",
    "model.add(Dropout(0.2))\n",
    "\n",
    "#adding the output layer\n",
    "model.add(Dense(units=1))"
   ]
  },
  {
   "cell_type": "code",
   "execution_count": 19,
   "id": "23d52037",
   "metadata": {},
   "outputs": [],
   "source": [
    "model.compile(optimizer='adam',loss=tf.keras.losses.mse)"
   ]
  },
  {
   "cell_type": "code",
   "execution_count": 20,
   "id": "f3869669",
   "metadata": {},
   "outputs": [
    {
     "name": "stdout",
     "output_type": "stream",
     "text": [
      "Epoch 1/100\n",
      "37/37 [==============================] - 11s 93ms/step - loss: 0.0454\n",
      "Epoch 2/100\n",
      "37/37 [==============================] - 3s 91ms/step - loss: 0.0062\n",
      "Epoch 3/100\n",
      "37/37 [==============================] - 3s 93ms/step - loss: 0.0057\n",
      "Epoch 4/100\n",
      "37/37 [==============================] - 3s 93ms/step - loss: 0.0062\n",
      "Epoch 5/100\n",
      "37/37 [==============================] - 3s 94ms/step - loss: 0.0057\n",
      "Epoch 6/100\n",
      "37/37 [==============================] - 4s 94ms/step - loss: 0.0063\n",
      "Epoch 7/100\n",
      "37/37 [==============================] - 3s 94ms/step - loss: 0.0050\n",
      "Epoch 8/100\n",
      "37/37 [==============================] - 4s 95ms/step - loss: 0.0047\n",
      "Epoch 9/100\n",
      "37/37 [==============================] - 4s 96ms/step - loss: 0.0045\n",
      "Epoch 10/100\n",
      "37/37 [==============================] - 4s 96ms/step - loss: 0.0046\n",
      "Epoch 11/100\n",
      "37/37 [==============================] - 4s 96ms/step - loss: 0.0040\n",
      "Epoch 12/100\n",
      "37/37 [==============================] - 4s 96ms/step - loss: 0.0045\n",
      "Epoch 13/100\n",
      "37/37 [==============================] - 4s 96ms/step - loss: 0.0038\n",
      "Epoch 14/100\n",
      "37/37 [==============================] - 4s 96ms/step - loss: 0.0038\n",
      "Epoch 15/100\n",
      "37/37 [==============================] - 4s 95ms/step - loss: 0.0042\n",
      "Epoch 16/100\n",
      "37/37 [==============================] - 3s 94ms/step - loss: 0.0048\n",
      "Epoch 17/100\n",
      "37/37 [==============================] - 4s 95ms/step - loss: 0.0044\n",
      "Epoch 18/100\n",
      "37/37 [==============================] - 3s 92ms/step - loss: 0.0038\n",
      "Epoch 19/100\n",
      "37/37 [==============================] - 3s 91ms/step - loss: 0.0051\n",
      "Epoch 20/100\n",
      "37/37 [==============================] - 3s 91ms/step - loss: 0.0036\n",
      "Epoch 21/100\n",
      "37/37 [==============================] - 3s 91ms/step - loss: 0.0037\n",
      "Epoch 22/100\n",
      "37/37 [==============================] - 3s 92ms/step - loss: 0.0034\n",
      "Epoch 23/100\n",
      "37/37 [==============================] - 3s 90ms/step - loss: 0.0036\n",
      "Epoch 24/100\n",
      "37/37 [==============================] - 3s 92ms/step - loss: 0.0040\n",
      "Epoch 25/100\n",
      "37/37 [==============================] - 3s 92ms/step - loss: 0.0032\n",
      "Epoch 26/100\n",
      "37/37 [==============================] - 3s 93ms/step - loss: 0.0031\n",
      "Epoch 27/100\n",
      "37/37 [==============================] - 3s 93ms/step - loss: 0.0032\n",
      "Epoch 28/100\n",
      "37/37 [==============================] - 3s 93ms/step - loss: 0.0039\n",
      "Epoch 29/100\n",
      "37/37 [==============================] - 3s 92ms/step - loss: 0.0038\n",
      "Epoch 30/100\n",
      "37/37 [==============================] - 3s 91ms/step - loss: 0.0035\n",
      "Epoch 31/100\n",
      "37/37 [==============================] - 3s 94ms/step - loss: 0.0033\n",
      "Epoch 32/100\n",
      "37/37 [==============================] - 3s 92ms/step - loss: 0.0029\n",
      "Epoch 33/100\n",
      "37/37 [==============================] - 3s 92ms/step - loss: 0.0030\n",
      "Epoch 34/100\n",
      "37/37 [==============================] - 3s 92ms/step - loss: 0.0030\n",
      "Epoch 35/100\n",
      "37/37 [==============================] - 3s 93ms/step - loss: 0.0031\n",
      "Epoch 36/100\n",
      "37/37 [==============================] - 3s 94ms/step - loss: 0.0034\n",
      "Epoch 37/100\n",
      "37/37 [==============================] - 3s 93ms/step - loss: 0.0028\n",
      "Epoch 38/100\n",
      "37/37 [==============================] - 3s 92ms/step - loss: 0.0026\n",
      "Epoch 39/100\n",
      "37/37 [==============================] - 3s 93ms/step - loss: 0.0028\n",
      "Epoch 40/100\n",
      "37/37 [==============================] - 3s 94ms/step - loss: 0.0027\n",
      "Epoch 41/100\n",
      "37/37 [==============================] - 3s 94ms/step - loss: 0.0028\n",
      "Epoch 42/100\n",
      "37/37 [==============================] - 3s 93ms/step - loss: 0.0026\n",
      "Epoch 43/100\n",
      "37/37 [==============================] - 3s 94ms/step - loss: 0.0026\n",
      "Epoch 44/100\n",
      "37/37 [==============================] - 4s 97ms/step - loss: 0.0026\n",
      "Epoch 45/100\n",
      "37/37 [==============================] - 4s 97ms/step - loss: 0.0026\n",
      "Epoch 46/100\n",
      "37/37 [==============================] - 3s 93ms/step - loss: 0.0029\n",
      "Epoch 47/100\n",
      "37/37 [==============================] - 3s 93ms/step - loss: 0.0027\n",
      "Epoch 48/100\n",
      "37/37 [==============================] - 3s 94ms/step - loss: 0.0025\n",
      "Epoch 49/100\n",
      "37/37 [==============================] - 4s 98ms/step - loss: 0.0025\n",
      "Epoch 50/100\n",
      "37/37 [==============================] - 4s 98ms/step - loss: 0.0024\n",
      "Epoch 51/100\n",
      "37/37 [==============================] - 4s 101ms/step - loss: 0.0028\n",
      "Epoch 52/100\n",
      "37/37 [==============================] - 4s 101ms/step - loss: 0.0023\n",
      "Epoch 53/100\n",
      "37/37 [==============================] - 4s 98ms/step - loss: 0.0023\n",
      "Epoch 54/100\n",
      "37/37 [==============================] - 4s 101ms/step - loss: 0.0023\n",
      "Epoch 55/100\n",
      "37/37 [==============================] - 4s 110ms/step - loss: 0.0025\n",
      "Epoch 56/100\n",
      "37/37 [==============================] - 4s 104ms/step - loss: 0.0023\n",
      "Epoch 57/100\n",
      "37/37 [==============================] - 4s 100ms/step - loss: 0.0024\n",
      "Epoch 58/100\n",
      "37/37 [==============================] - 4s 100ms/step - loss: 0.0024\n",
      "Epoch 59/100\n",
      "37/37 [==============================] - 4s 97ms/step - loss: 0.0025\n",
      "Epoch 60/100\n",
      "37/37 [==============================] - 4s 97ms/step - loss: 0.0020\n",
      "Epoch 61/100\n",
      "37/37 [==============================] - 4s 100ms/step - loss: 0.0022\n",
      "Epoch 62/100\n",
      "37/37 [==============================] - 4s 98ms/step - loss: 0.0021\n",
      "Epoch 63/100\n",
      "37/37 [==============================] - 4s 97ms/step - loss: 0.0020\n",
      "Epoch 64/100\n",
      "37/37 [==============================] - 4s 96ms/step - loss: 0.0021\n",
      "Epoch 65/100\n",
      "37/37 [==============================] - 4s 96ms/step - loss: 0.0021\n",
      "Epoch 66/100\n",
      "37/37 [==============================] - 4s 102ms/step - loss: 0.0021\n",
      "Epoch 67/100\n",
      "37/37 [==============================] - 4s 103ms/step - loss: 0.0019\n",
      "Epoch 68/100\n",
      "37/37 [==============================] - 4s 98ms/step - loss: 0.0020\n",
      "Epoch 69/100\n",
      "37/37 [==============================] - 4s 99ms/step - loss: 0.0020\n",
      "Epoch 70/100\n",
      "37/37 [==============================] - 4s 97ms/step - loss: 0.0018\n",
      "Epoch 71/100\n",
      "37/37 [==============================] - 4s 97ms/step - loss: 0.0019\n",
      "Epoch 72/100\n",
      "37/37 [==============================] - 4s 96ms/step - loss: 0.0019\n",
      "Epoch 73/100\n",
      "37/37 [==============================] - 4s 96ms/step - loss: 0.0019\n",
      "Epoch 74/100\n",
      "37/37 [==============================] - 4s 96ms/step - loss: 0.0019\n",
      "Epoch 75/100\n",
      "37/37 [==============================] - 4s 97ms/step - loss: 0.0017\n",
      "Epoch 76/100\n",
      "37/37 [==============================] - 4s 105ms/step - loss: 0.0018\n",
      "Epoch 77/100\n",
      "37/37 [==============================] - 4s 98ms/step - loss: 0.0018\n",
      "Epoch 78/100\n",
      "37/37 [==============================] - 4s 98ms/step - loss: 0.0018\n",
      "Epoch 79/100\n",
      "37/37 [==============================] - 4s 99ms/step - loss: 0.0017\n",
      "Epoch 80/100\n",
      "37/37 [==============================] - 4s 98ms/step - loss: 0.0018\n",
      "Epoch 81/100\n",
      "37/37 [==============================] - 4s 96ms/step - loss: 0.0019\n",
      "Epoch 82/100\n",
      "37/37 [==============================] - 4s 96ms/step - loss: 0.0016\n",
      "Epoch 83/100\n",
      "37/37 [==============================] - 4s 98ms/step - loss: 0.0018\n",
      "Epoch 84/100\n",
      "37/37 [==============================] - 4s 104ms/step - loss: 0.0017\n",
      "Epoch 85/100\n",
      "37/37 [==============================] - 4s 100ms/step - loss: 0.0016\n",
      "Epoch 86/100\n",
      "37/37 [==============================] - 4s 97ms/step - loss: 0.0015\n",
      "Epoch 87/100\n",
      "37/37 [==============================] - 4s 110ms/step - loss: 0.0016\n",
      "Epoch 88/100\n",
      "37/37 [==============================] - 4s 103ms/step - loss: 0.0016\n",
      "Epoch 89/100\n",
      "37/37 [==============================] - 4s 100ms/step - loss: 0.0015\n",
      "Epoch 90/100\n",
      "37/37 [==============================] - 4s 96ms/step - loss: 0.0017\n",
      "Epoch 91/100\n",
      "37/37 [==============================] - 4s 95ms/step - loss: 0.0017\n",
      "Epoch 92/100\n",
      "37/37 [==============================] - 3s 93ms/step - loss: 0.0017\n",
      "Epoch 93/100\n",
      "37/37 [==============================] - 4s 96ms/step - loss: 0.0016\n",
      "Epoch 94/100\n",
      "37/37 [==============================] - 3s 94ms/step - loss: 0.0016\n",
      "Epoch 95/100\n",
      "37/37 [==============================] - 3s 94ms/step - loss: 0.0015\n",
      "Epoch 96/100\n",
      "37/37 [==============================] - 3s 94ms/step - loss: 0.0015\n",
      "Epoch 97/100\n",
      "37/37 [==============================] - 3s 94ms/step - loss: 0.0018\n",
      "Epoch 98/100\n",
      "37/37 [==============================] - 4s 96ms/step - loss: 0.0017\n",
      "Epoch 99/100\n",
      "37/37 [==============================] - 3s 94ms/step - loss: 0.0015\n",
      "Epoch 100/100\n",
      "37/37 [==============================] - 3s 94ms/step - loss: 0.0014\n"
     ]
    },
    {
     "data": {
      "text/plain": [
       "<keras.callbacks.History at 0x1d3565247f0>"
      ]
     },
     "execution_count": 20,
     "metadata": {},
     "output_type": "execute_result"
    }
   ],
   "source": [
    "model.fit(X_train,y_train,epochs=100,batch_size=32)"
   ]
  },
  {
   "cell_type": "code",
   "execution_count": null,
   "id": "d8eaa5da",
   "metadata": {},
   "outputs": [],
   "source": []
  }
 ],
 "metadata": {
  "kernelspec": {
   "display_name": "Python 3 (ipykernel)",
   "language": "python",
   "name": "python3"
  },
  "language_info": {
   "codemirror_mode": {
    "name": "ipython",
    "version": 3
   },
   "file_extension": ".py",
   "mimetype": "text/x-python",
   "name": "python",
   "nbconvert_exporter": "python",
   "pygments_lexer": "ipython3",
   "version": "3.9.12"
  }
 },
 "nbformat": 4,
 "nbformat_minor": 5
}
