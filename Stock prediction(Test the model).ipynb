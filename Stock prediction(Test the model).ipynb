{
 "cells": [
  {
   "cell_type": "code",
   "execution_count": 1,
   "id": "694393dd",
   "metadata": {},
   "outputs": [],
   "source": [
    "import pandas as pd\n",
    "import matplotlib.pyplot as plt\n",
    "import datetime\n",
    "import numpy as np"
   ]
  },
  {
   "cell_type": "code",
   "execution_count": 2,
   "id": "1ea1af83",
   "metadata": {},
   "outputs": [],
   "source": [
    "df=pd.read_csv('Google_Stock_Price_Train.csv',index_col='Date',parse_dates=True)"
   ]
  },
  {
   "cell_type": "code",
   "execution_count": 3,
   "id": "2006fc8a",
   "metadata": {},
   "outputs": [
    {
     "data": {
      "text/html": [
       "<div>\n",
       "<style scoped>\n",
       "    .dataframe tbody tr th:only-of-type {\n",
       "        vertical-align: middle;\n",
       "    }\n",
       "\n",
       "    .dataframe tbody tr th {\n",
       "        vertical-align: top;\n",
       "    }\n",
       "\n",
       "    .dataframe thead th {\n",
       "        text-align: right;\n",
       "    }\n",
       "</style>\n",
       "<table border=\"1\" class=\"dataframe\">\n",
       "  <thead>\n",
       "    <tr style=\"text-align: right;\">\n",
       "      <th></th>\n",
       "      <th>Open</th>\n",
       "      <th>High</th>\n",
       "      <th>Low</th>\n",
       "      <th>Close</th>\n",
       "      <th>Volume</th>\n",
       "    </tr>\n",
       "    <tr>\n",
       "      <th>Date</th>\n",
       "      <th></th>\n",
       "      <th></th>\n",
       "      <th></th>\n",
       "      <th></th>\n",
       "      <th></th>\n",
       "    </tr>\n",
       "  </thead>\n",
       "  <tbody>\n",
       "    <tr>\n",
       "      <th>2012-01-03</th>\n",
       "      <td>325.25</td>\n",
       "      <td>332.83</td>\n",
       "      <td>324.97</td>\n",
       "      <td>663.59</td>\n",
       "      <td>7,380,500</td>\n",
       "    </tr>\n",
       "    <tr>\n",
       "      <th>2012-01-04</th>\n",
       "      <td>331.27</td>\n",
       "      <td>333.87</td>\n",
       "      <td>329.08</td>\n",
       "      <td>666.45</td>\n",
       "      <td>5,749,400</td>\n",
       "    </tr>\n",
       "    <tr>\n",
       "      <th>2012-01-05</th>\n",
       "      <td>329.83</td>\n",
       "      <td>330.75</td>\n",
       "      <td>326.89</td>\n",
       "      <td>657.21</td>\n",
       "      <td>6,590,300</td>\n",
       "    </tr>\n",
       "    <tr>\n",
       "      <th>2012-01-06</th>\n",
       "      <td>328.34</td>\n",
       "      <td>328.77</td>\n",
       "      <td>323.68</td>\n",
       "      <td>648.24</td>\n",
       "      <td>5,405,900</td>\n",
       "    </tr>\n",
       "    <tr>\n",
       "      <th>2012-01-09</th>\n",
       "      <td>322.04</td>\n",
       "      <td>322.29</td>\n",
       "      <td>309.46</td>\n",
       "      <td>620.76</td>\n",
       "      <td>11,688,800</td>\n",
       "    </tr>\n",
       "  </tbody>\n",
       "</table>\n",
       "</div>"
      ],
      "text/plain": [
       "              Open    High     Low   Close      Volume\n",
       "Date                                                  \n",
       "2012-01-03  325.25  332.83  324.97  663.59   7,380,500\n",
       "2012-01-04  331.27  333.87  329.08  666.45   5,749,400\n",
       "2012-01-05  329.83  330.75  326.89  657.21   6,590,300\n",
       "2012-01-06  328.34  328.77  323.68  648.24   5,405,900\n",
       "2012-01-09  322.04  322.29  309.46  620.76  11,688,800"
      ]
     },
     "execution_count": 3,
     "metadata": {},
     "output_type": "execute_result"
    }
   ],
   "source": [
    "df.head()"
   ]
  },
  {
   "cell_type": "code",
   "execution_count": 4,
   "id": "9d381785",
   "metadata": {},
   "outputs": [
    {
     "data": {
      "text/plain": [
       "(1258, 5)"
      ]
     },
     "execution_count": 4,
     "metadata": {},
     "output_type": "execute_result"
    }
   ],
   "source": [
    "df.shape"
   ]
  },
  {
   "cell_type": "code",
   "execution_count": 5,
   "id": "5bc6f1f9",
   "metadata": {},
   "outputs": [
    {
     "data": {
      "text/plain": [
       "Open      False\n",
       "High      False\n",
       "Low       False\n",
       "Close     False\n",
       "Volume    False\n",
       "dtype: bool"
      ]
     },
     "execution_count": 5,
     "metadata": {},
     "output_type": "execute_result"
    }
   ],
   "source": [
    "df.isna().any()"
   ]
  },
  {
   "cell_type": "code",
   "execution_count": 6,
   "id": "4d92a289",
   "metadata": {},
   "outputs": [],
   "source": [
    "#Changing the datatype of close and volume t ofloat\n",
    "df['Close']=df['Close'].str.replace(',','').astype(float)\n",
    "df['Volume']=df['Volume'].str.replace(',','').astype(float)"
   ]
  },
  {
   "cell_type": "code",
   "execution_count": 7,
   "id": "976eb21c",
   "metadata": {},
   "outputs": [],
   "source": [
    "training_set=df['Open']\n",
    "training_set=pd.DataFrame(training_set)"
   ]
  },
  {
   "cell_type": "code",
   "execution_count": 8,
   "id": "02f43585",
   "metadata": {},
   "outputs": [],
   "source": [
    "from sklearn.preprocessing import MinMaxScaler\n",
    "sc=MinMaxScaler(feature_range=(0,1))\n",
    "training_set_scaled=sc.fit_transform(training_set)"
   ]
  },
  {
   "cell_type": "code",
   "execution_count": 9,
   "id": "e5129a16",
   "metadata": {},
   "outputs": [
    {
     "data": {
      "text/html": [
       "<div>\n",
       "<style scoped>\n",
       "    .dataframe tbody tr th:only-of-type {\n",
       "        vertical-align: middle;\n",
       "    }\n",
       "\n",
       "    .dataframe tbody tr th {\n",
       "        vertical-align: top;\n",
       "    }\n",
       "\n",
       "    .dataframe thead th {\n",
       "        text-align: right;\n",
       "    }\n",
       "</style>\n",
       "<table border=\"1\" class=\"dataframe\">\n",
       "  <thead>\n",
       "    <tr style=\"text-align: right;\">\n",
       "      <th></th>\n",
       "      <th>Open</th>\n",
       "    </tr>\n",
       "    <tr>\n",
       "      <th>Date</th>\n",
       "      <th></th>\n",
       "    </tr>\n",
       "  </thead>\n",
       "  <tbody>\n",
       "    <tr>\n",
       "      <th>2012-01-03</th>\n",
       "      <td>325.25</td>\n",
       "    </tr>\n",
       "    <tr>\n",
       "      <th>2012-01-04</th>\n",
       "      <td>331.27</td>\n",
       "    </tr>\n",
       "    <tr>\n",
       "      <th>2012-01-05</th>\n",
       "      <td>329.83</td>\n",
       "    </tr>\n",
       "    <tr>\n",
       "      <th>2012-01-06</th>\n",
       "      <td>328.34</td>\n",
       "    </tr>\n",
       "    <tr>\n",
       "      <th>2012-01-09</th>\n",
       "      <td>322.04</td>\n",
       "    </tr>\n",
       "    <tr>\n",
       "      <th>...</th>\n",
       "      <td>...</td>\n",
       "    </tr>\n",
       "    <tr>\n",
       "      <th>2016-12-23</th>\n",
       "      <td>790.90</td>\n",
       "    </tr>\n",
       "    <tr>\n",
       "      <th>2016-12-27</th>\n",
       "      <td>790.68</td>\n",
       "    </tr>\n",
       "    <tr>\n",
       "      <th>2016-12-28</th>\n",
       "      <td>793.70</td>\n",
       "    </tr>\n",
       "    <tr>\n",
       "      <th>2016-12-29</th>\n",
       "      <td>783.33</td>\n",
       "    </tr>\n",
       "    <tr>\n",
       "      <th>2016-12-30</th>\n",
       "      <td>782.75</td>\n",
       "    </tr>\n",
       "  </tbody>\n",
       "</table>\n",
       "<p>1258 rows × 1 columns</p>\n",
       "</div>"
      ],
      "text/plain": [
       "              Open\n",
       "Date              \n",
       "2012-01-03  325.25\n",
       "2012-01-04  331.27\n",
       "2012-01-05  329.83\n",
       "2012-01-06  328.34\n",
       "2012-01-09  322.04\n",
       "...            ...\n",
       "2016-12-23  790.90\n",
       "2016-12-27  790.68\n",
       "2016-12-28  793.70\n",
       "2016-12-29  783.33\n",
       "2016-12-30  782.75\n",
       "\n",
       "[1258 rows x 1 columns]"
      ]
     },
     "execution_count": 9,
     "metadata": {},
     "output_type": "execute_result"
    }
   ],
   "source": [
    "training_set"
   ]
  },
  {
   "cell_type": "code",
   "execution_count": 10,
   "id": "cd135ef8",
   "metadata": {},
   "outputs": [
    {
     "data": {
      "text/plain": [
       "array([[0.08581368],\n",
       "       [0.09701243],\n",
       "       [0.09433366],\n",
       "       ...,\n",
       "       [0.95725128],\n",
       "       [0.93796041],\n",
       "       [0.93688146]])"
      ]
     },
     "execution_count": 10,
     "metadata": {},
     "output_type": "execute_result"
    }
   ],
   "source": [
    "training_set_scaled"
   ]
  },
  {
   "cell_type": "code",
   "execution_count": 11,
   "id": "b948c203",
   "metadata": {},
   "outputs": [],
   "source": [
    "#creating a data structure with 100 time steps and 1 output\n",
    "X_train=[]\n",
    "y_train=[]\n",
    "for i in range(100,1258):\n",
    "    X_train.append(training_set_scaled[i-100:i,0])\n",
    "    y_train.append(training_set_scaled[i,0])\n",
    "X_train,y_train=np.array(X_train),np.array(y_train)\n"
   ]
  },
  {
   "cell_type": "code",
   "execution_count": 12,
   "id": "082b2dbf",
   "metadata": {},
   "outputs": [],
   "source": [
    "#reshaping \n",
    "X_train=np.reshape(X_train,(X_train.shape[0],X_train.shape[1],1))"
   ]
  },
  {
   "cell_type": "code",
   "execution_count": 13,
   "id": "b0cec70d",
   "metadata": {},
   "outputs": [
    {
     "data": {
      "text/plain": [
       "(1158, 100, 1)"
      ]
     },
     "execution_count": 13,
     "metadata": {},
     "output_type": "execute_result"
    }
   ],
   "source": [
    "X_train.shape"
   ]
  },
  {
   "cell_type": "code",
   "execution_count": 14,
   "id": "33e00a28",
   "metadata": {},
   "outputs": [],
   "source": [
    "import tensorflow as tf\n",
    "from tensorflow.keras.models import Sequential\n",
    "from tensorflow.keras.layers import Dense\n",
    "from tensorflow.keras.layers import LSTM\n",
    "from tensorflow.keras.layers import Dropout"
   ]
  },
  {
   "cell_type": "code",
   "execution_count": 15,
   "id": "14b26660",
   "metadata": {},
   "outputs": [],
   "source": [
    "#creating the model RNN\n",
    "model = Sequential()\n",
    "#adding the first LSTM layer\n",
    "model.add(LSTM(units=50,return_sequences=True,input_shape=(X_train.shape[1],1)))\n",
    "model.add(Dropout(0.2))\n",
    "\n",
    "#adding the second LSTM layer\n",
    "model.add(LSTM(units=50,return_sequences=True))\n",
    "model.add(Dropout(0.2))\n",
    "\n",
    "#adding the third LSTM layer\n",
    "model.add(LSTM(units=50,return_sequences=True))\n",
    "model.add(Dropout(0.2))\n",
    "\n",
    "#adding the fourth LSTM layer\n",
    "model.add(LSTM(units=50))\n",
    "model.add(Dropout(0.2))\n",
    "\n",
    "#adding the output layer\n",
    "model.add(Dense(units=1))"
   ]
  },
  {
   "cell_type": "code",
   "execution_count": 16,
   "id": "23d52037",
   "metadata": {},
   "outputs": [],
   "source": [
    "model.compile(optimizer='adam',loss=tf.keras.losses.mse)"
   ]
  },
  {
   "cell_type": "code",
   "execution_count": 17,
   "id": "f3869669",
   "metadata": {},
   "outputs": [
    {
     "name": "stdout",
     "output_type": "stream",
     "text": [
      "Epoch 1/100\n",
      "37/37 [==============================] - 11s 98ms/step - loss: 0.0510\n",
      "Epoch 2/100\n",
      "37/37 [==============================] - 4s 95ms/step - loss: 0.0087\n",
      "Epoch 3/100\n",
      "37/37 [==============================] - 4s 97ms/step - loss: 0.0066\n",
      "Epoch 4/100\n",
      "37/37 [==============================] - 4s 108ms/step - loss: 0.0051\n",
      "Epoch 5/100\n",
      "37/37 [==============================] - 4s 102ms/step - loss: 0.0050\n",
      "Epoch 6/100\n",
      "37/37 [==============================] - 4s 107ms/step - loss: 0.0053\n",
      "Epoch 7/100\n",
      "37/37 [==============================] - 4s 108ms/step - loss: 0.0054\n",
      "Epoch 8/100\n",
      "37/37 [==============================] - 4s 99ms/step - loss: 0.0047\n",
      "Epoch 9/100\n",
      "37/37 [==============================] - 4s 95ms/step - loss: 0.0054\n",
      "Epoch 10/100\n",
      "37/37 [==============================] - 4s 95ms/step - loss: 0.0049\n",
      "Epoch 11/100\n",
      "37/37 [==============================] - 4s 105ms/step - loss: 0.0044\n",
      "Epoch 12/100\n",
      "37/37 [==============================] - 4s 101ms/step - loss: 0.0042\n",
      "Epoch 13/100\n",
      "37/37 [==============================] - 4s 95ms/step - loss: 0.0040\n",
      "Epoch 14/100\n",
      "37/37 [==============================] - 4s 96ms/step - loss: 0.0043\n",
      "Epoch 15/100\n",
      "37/37 [==============================] - 4s 97ms/step - loss: 0.0040\n",
      "Epoch 16/100\n",
      "37/37 [==============================] - 4s 100ms/step - loss: 0.0045\n",
      "Epoch 17/100\n",
      "37/37 [==============================] - 4s 96ms/step - loss: 0.0041\n",
      "Epoch 18/100\n",
      "37/37 [==============================] - 4s 96ms/step - loss: 0.0041\n",
      "Epoch 19/100\n",
      "37/37 [==============================] - 4s 96ms/step - loss: 0.0034\n",
      "Epoch 20/100\n",
      "37/37 [==============================] - 4s 97ms/step - loss: 0.0037\n",
      "Epoch 21/100\n",
      "37/37 [==============================] - 4s 96ms/step - loss: 0.0034\n",
      "Epoch 22/100\n",
      "37/37 [==============================] - 4s 95ms/step - loss: 0.0035\n",
      "Epoch 23/100\n",
      "37/37 [==============================] - 4s 95ms/step - loss: 0.0039\n",
      "Epoch 24/100\n",
      "37/37 [==============================] - 4s 96ms/step - loss: 0.0030\n",
      "Epoch 25/100\n",
      "37/37 [==============================] - 4s 96ms/step - loss: 0.0037\n",
      "Epoch 26/100\n",
      "37/37 [==============================] - 4s 95ms/step - loss: 0.0036\n",
      "Epoch 27/100\n",
      "37/37 [==============================] - 4s 96ms/step - loss: 0.0031\n",
      "Epoch 28/100\n",
      "37/37 [==============================] - 4s 96ms/step - loss: 0.0031\n",
      "Epoch 29/100\n",
      "37/37 [==============================] - 4s 100ms/step - loss: 0.0030\n",
      "Epoch 30/100\n",
      "37/37 [==============================] - 4s 99ms/step - loss: 0.0031\n",
      "Epoch 31/100\n",
      "37/37 [==============================] - 4s 103ms/step - loss: 0.0028\n",
      "Epoch 32/100\n",
      "37/37 [==============================] - 4s 101ms/step - loss: 0.0033\n",
      "Epoch 33/100\n",
      "37/37 [==============================] - 4s 100ms/step - loss: 0.0029\n",
      "Epoch 34/100\n",
      "37/37 [==============================] - 4s 99ms/step - loss: 0.0030\n",
      "Epoch 35/100\n",
      "37/37 [==============================] - 4s 97ms/step - loss: 0.0030\n",
      "Epoch 36/100\n",
      "37/37 [==============================] - 4s 97ms/step - loss: 0.0029\n",
      "Epoch 37/100\n",
      "37/37 [==============================] - 4s 97ms/step - loss: 0.0027\n",
      "Epoch 38/100\n",
      "37/37 [==============================] - 4s 99ms/step - loss: 0.0029\n",
      "Epoch 39/100\n",
      "37/37 [==============================] - 4s 98ms/step - loss: 0.0028\n",
      "Epoch 40/100\n",
      "37/37 [==============================] - 4s 107ms/step - loss: 0.0029\n",
      "Epoch 41/100\n",
      "37/37 [==============================] - 4s 116ms/step - loss: 0.0025\n",
      "Epoch 42/100\n",
      "37/37 [==============================] - 4s 119ms/step - loss: 0.0027\n",
      "Epoch 43/100\n",
      "37/37 [==============================] - 4s 115ms/step - loss: 0.0031\n",
      "Epoch 44/100\n",
      "37/37 [==============================] - 4s 106ms/step - loss: 0.0025\n",
      "Epoch 45/100\n",
      "37/37 [==============================] - 4s 98ms/step - loss: 0.0033\n",
      "Epoch 46/100\n",
      "37/37 [==============================] - 4s 100ms/step - loss: 0.0026\n",
      "Epoch 47/100\n",
      "37/37 [==============================] - 4s 96ms/step - loss: 0.0025\n",
      "Epoch 48/100\n",
      "37/37 [==============================] - 4s 95ms/step - loss: 0.0025\n",
      "Epoch 49/100\n",
      "37/37 [==============================] - 4s 96ms/step - loss: 0.0028\n",
      "Epoch 50/100\n",
      "37/37 [==============================] - 4s 96ms/step - loss: 0.0026\n",
      "Epoch 51/100\n",
      "37/37 [==============================] - 4s 98ms/step - loss: 0.0023\n",
      "Epoch 52/100\n",
      "37/37 [==============================] - 3s 94ms/step - loss: 0.0023\n",
      "Epoch 53/100\n",
      "37/37 [==============================] - 4s 97ms/step - loss: 0.0021\n",
      "Epoch 54/100\n",
      "37/37 [==============================] - 3s 94ms/step - loss: 0.0025\n",
      "Epoch 55/100\n",
      "37/37 [==============================] - 4s 98ms/step - loss: 0.0022\n",
      "Epoch 56/100\n",
      "37/37 [==============================] - 4s 96ms/step - loss: 0.0023\n",
      "Epoch 57/100\n",
      "37/37 [==============================] - 4s 94ms/step - loss: 0.0020\n",
      "Epoch 58/100\n",
      "37/37 [==============================] - 4s 107ms/step - loss: 0.0021\n",
      "Epoch 59/100\n",
      "37/37 [==============================] - 4s 103ms/step - loss: 0.0020\n",
      "Epoch 60/100\n",
      "37/37 [==============================] - 4s 104ms/step - loss: 0.0020\n",
      "Epoch 61/100\n",
      "37/37 [==============================] - 4s 103ms/step - loss: 0.0021\n",
      "Epoch 62/100\n",
      "37/37 [==============================] - 4s 101ms/step - loss: 0.0021\n",
      "Epoch 63/100\n",
      "37/37 [==============================] - 4s 99ms/step - loss: 0.0019\n",
      "Epoch 64/100\n",
      "37/37 [==============================] - 4s 104ms/step - loss: 0.0022\n",
      "Epoch 65/100\n",
      "37/37 [==============================] - 4s 101ms/step - loss: 0.0021\n",
      "Epoch 66/100\n",
      "37/37 [==============================] - 4s 96ms/step - loss: 0.0019\n",
      "Epoch 67/100\n",
      "37/37 [==============================] - 3s 94ms/step - loss: 0.0019\n",
      "Epoch 68/100\n",
      "37/37 [==============================] - 4s 95ms/step - loss: 0.0021\n",
      "Epoch 69/100\n",
      "37/37 [==============================] - 3s 94ms/step - loss: 0.0019\n",
      "Epoch 70/100\n",
      "37/37 [==============================] - 3s 94ms/step - loss: 0.0022\n",
      "Epoch 71/100\n",
      "37/37 [==============================] - 3s 93ms/step - loss: 0.0021\n",
      "Epoch 72/100\n",
      "37/37 [==============================] - 4s 96ms/step - loss: 0.0018\n",
      "Epoch 73/100\n",
      "37/37 [==============================] - 4s 96ms/step - loss: 0.0019\n",
      "Epoch 74/100\n",
      "37/37 [==============================] - 4s 96ms/step - loss: 0.0018\n",
      "Epoch 75/100\n",
      "37/37 [==============================] - 4s 95ms/step - loss: 0.0017\n",
      "Epoch 76/100\n",
      "37/37 [==============================] - 4s 95ms/step - loss: 0.0015\n",
      "Epoch 77/100\n",
      "37/37 [==============================] - 4s 96ms/step - loss: 0.0018\n",
      "Epoch 78/100\n",
      "37/37 [==============================] - 4s 95ms/step - loss: 0.0018\n",
      "Epoch 79/100\n",
      "37/37 [==============================] - 4s 95ms/step - loss: 0.0018\n",
      "Epoch 80/100\n",
      "37/37 [==============================] - 3s 94ms/step - loss: 0.0019\n",
      "Epoch 81/100\n",
      "37/37 [==============================] - 4s 95ms/step - loss: 0.0020\n",
      "Epoch 82/100\n",
      "37/37 [==============================] - 4s 97ms/step - loss: 0.0018\n",
      "Epoch 83/100\n",
      "37/37 [==============================] - 3s 93ms/step - loss: 0.0015\n",
      "Epoch 84/100\n",
      "37/37 [==============================] - 3s 94ms/step - loss: 0.0015\n",
      "Epoch 85/100\n",
      "37/37 [==============================] - 3s 94ms/step - loss: 0.0016\n",
      "Epoch 86/100\n",
      "37/37 [==============================] - 4s 97ms/step - loss: 0.0018\n",
      "Epoch 87/100\n",
      "37/37 [==============================] - 4s 94ms/step - loss: 0.0017\n",
      "Epoch 88/100\n",
      "37/37 [==============================] - 4s 96ms/step - loss: 0.0016\n",
      "Epoch 89/100\n",
      "37/37 [==============================] - 4s 95ms/step - loss: 0.0016\n",
      "Epoch 90/100\n",
      "37/37 [==============================] - 4s 95ms/step - loss: 0.0016\n",
      "Epoch 91/100\n",
      "37/37 [==============================] - 4s 95ms/step - loss: 0.0014\n",
      "Epoch 92/100\n",
      "37/37 [==============================] - 4s 95ms/step - loss: 0.0018\n",
      "Epoch 93/100\n",
      "37/37 [==============================] - 4s 95ms/step - loss: 0.0016\n",
      "Epoch 94/100\n",
      "37/37 [==============================] - 4s 95ms/step - loss: 0.0014\n",
      "Epoch 95/100\n",
      "37/37 [==============================] - 4s 97ms/step - loss: 0.0015\n",
      "Epoch 96/100\n",
      "37/37 [==============================] - 4s 95ms/step - loss: 0.0015\n",
      "Epoch 97/100\n",
      "37/37 [==============================] - 3s 94ms/step - loss: 0.0017\n",
      "Epoch 98/100\n",
      "37/37 [==============================] - 4s 95ms/step - loss: 0.0016\n",
      "Epoch 99/100\n",
      "37/37 [==============================] - 3s 94ms/step - loss: 0.0014\n",
      "Epoch 100/100\n",
      "37/37 [==============================] - 4s 96ms/step - loss: 0.0017\n"
     ]
    },
    {
     "data": {
      "text/plain": [
       "<keras.callbacks.History at 0x1c766778d90>"
      ]
     },
     "execution_count": 17,
     "metadata": {},
     "output_type": "execute_result"
    }
   ],
   "source": [
    "model.fit(X_train,y_train,epochs=100,batch_size=32)"
   ]
  },
  {
   "cell_type": "code",
   "execution_count": 20,
   "id": "d8eaa5da",
   "metadata": {},
   "outputs": [],
   "source": [
    "df_test=pd.read_csv('Google_Stock_Price_Test.csv',index_col='Date',parse_dates=True)"
   ]
  },
  {
   "cell_type": "code",
   "execution_count": 21,
   "id": "c9de86a2",
   "metadata": {},
   "outputs": [
    {
     "data": {
      "text/html": [
       "<div>\n",
       "<style scoped>\n",
       "    .dataframe tbody tr th:only-of-type {\n",
       "        vertical-align: middle;\n",
       "    }\n",
       "\n",
       "    .dataframe tbody tr th {\n",
       "        vertical-align: top;\n",
       "    }\n",
       "\n",
       "    .dataframe thead th {\n",
       "        text-align: right;\n",
       "    }\n",
       "</style>\n",
       "<table border=\"1\" class=\"dataframe\">\n",
       "  <thead>\n",
       "    <tr style=\"text-align: right;\">\n",
       "      <th></th>\n",
       "      <th>Open</th>\n",
       "      <th>High</th>\n",
       "      <th>Low</th>\n",
       "      <th>Close</th>\n",
       "      <th>Volume</th>\n",
       "    </tr>\n",
       "    <tr>\n",
       "      <th>Date</th>\n",
       "      <th></th>\n",
       "      <th></th>\n",
       "      <th></th>\n",
       "      <th></th>\n",
       "      <th></th>\n",
       "    </tr>\n",
       "  </thead>\n",
       "  <tbody>\n",
       "    <tr>\n",
       "      <th>2017-01-03</th>\n",
       "      <td>778.81</td>\n",
       "      <td>789.63</td>\n",
       "      <td>775.80</td>\n",
       "      <td>786.14</td>\n",
       "      <td>1,657,300</td>\n",
       "    </tr>\n",
       "    <tr>\n",
       "      <th>2017-01-04</th>\n",
       "      <td>788.36</td>\n",
       "      <td>791.34</td>\n",
       "      <td>783.16</td>\n",
       "      <td>786.90</td>\n",
       "      <td>1,073,000</td>\n",
       "    </tr>\n",
       "    <tr>\n",
       "      <th>2017-01-05</th>\n",
       "      <td>786.08</td>\n",
       "      <td>794.48</td>\n",
       "      <td>785.02</td>\n",
       "      <td>794.02</td>\n",
       "      <td>1,335,200</td>\n",
       "    </tr>\n",
       "    <tr>\n",
       "      <th>2017-01-06</th>\n",
       "      <td>795.26</td>\n",
       "      <td>807.90</td>\n",
       "      <td>792.20</td>\n",
       "      <td>806.15</td>\n",
       "      <td>1,640,200</td>\n",
       "    </tr>\n",
       "    <tr>\n",
       "      <th>2017-01-09</th>\n",
       "      <td>806.40</td>\n",
       "      <td>809.97</td>\n",
       "      <td>802.83</td>\n",
       "      <td>806.65</td>\n",
       "      <td>1,272,400</td>\n",
       "    </tr>\n",
       "  </tbody>\n",
       "</table>\n",
       "</div>"
      ],
      "text/plain": [
       "              Open    High     Low   Close     Volume\n",
       "Date                                                 \n",
       "2017-01-03  778.81  789.63  775.80  786.14  1,657,300\n",
       "2017-01-04  788.36  791.34  783.16  786.90  1,073,000\n",
       "2017-01-05  786.08  794.48  785.02  794.02  1,335,200\n",
       "2017-01-06  795.26  807.90  792.20  806.15  1,640,200\n",
       "2017-01-09  806.40  809.97  802.83  806.65  1,272,400"
      ]
     },
     "execution_count": 21,
     "metadata": {},
     "output_type": "execute_result"
    }
   ],
   "source": [
    "df_test.head()"
   ]
  },
  {
   "cell_type": "code",
   "execution_count": 36,
   "id": "b04ca186",
   "metadata": {},
   "outputs": [
    {
     "data": {
      "text/plain": [
       "(20, 5)"
      ]
     },
     "execution_count": 36,
     "metadata": {},
     "output_type": "execute_result"
    }
   ],
   "source": [
    "df_test.shape"
   ]
  },
  {
   "cell_type": "code",
   "execution_count": 22,
   "id": "d8f49a6d",
   "metadata": {},
   "outputs": [
    {
     "name": "stdout",
     "output_type": "stream",
     "text": [
      "<class 'pandas.core.frame.DataFrame'>\n",
      "DatetimeIndex: 20 entries, 2017-01-03 to 2017-01-31\n",
      "Data columns (total 5 columns):\n",
      " #   Column  Non-Null Count  Dtype  \n",
      "---  ------  --------------  -----  \n",
      " 0   Open    20 non-null     float64\n",
      " 1   High    20 non-null     float64\n",
      " 2   Low     20 non-null     float64\n",
      " 3   Close   20 non-null     float64\n",
      " 4   Volume  20 non-null     object \n",
      "dtypes: float64(4), object(1)\n",
      "memory usage: 960.0+ bytes\n"
     ]
    }
   ],
   "source": [
    "df_test.info()"
   ]
  },
  {
   "cell_type": "code",
   "execution_count": 24,
   "id": "f261b5da",
   "metadata": {},
   "outputs": [],
   "source": [
    "df_test['Volume']=df_test['Volume'].str.replace(',','').astype(float)"
   ]
  },
  {
   "cell_type": "code",
   "execution_count": 25,
   "id": "3f4d2f30",
   "metadata": {},
   "outputs": [
    {
     "name": "stdout",
     "output_type": "stream",
     "text": [
      "<class 'pandas.core.frame.DataFrame'>\n",
      "DatetimeIndex: 1258 entries, 2012-01-03 to 2016-12-30\n",
      "Data columns (total 5 columns):\n",
      " #   Column  Non-Null Count  Dtype  \n",
      "---  ------  --------------  -----  \n",
      " 0   Open    1258 non-null   float64\n",
      " 1   High    1258 non-null   float64\n",
      " 2   Low     1258 non-null   float64\n",
      " 3   Close   1258 non-null   float64\n",
      " 4   Volume  1258 non-null   float64\n",
      "dtypes: float64(5)\n",
      "memory usage: 59.0 KB\n"
     ]
    }
   ],
   "source": [
    "df.info()"
   ]
  },
  {
   "cell_type": "code",
   "execution_count": 44,
   "id": "3265a033",
   "metadata": {},
   "outputs": [],
   "source": [
    "real_stock_price=df_test.iloc[:,1:2].values"
   ]
  },
  {
   "cell_type": "code",
   "execution_count": 26,
   "id": "76a7d42b",
   "metadata": {},
   "outputs": [],
   "source": [
    "test_set=df_test['Open']\n",
    "test_set=pd.DataFrame(test_set)"
   ]
  },
  {
   "cell_type": "code",
   "execution_count": 28,
   "id": "087bf9c2",
   "metadata": {},
   "outputs": [
    {
     "data": {
      "text/html": [
       "<div>\n",
       "<style scoped>\n",
       "    .dataframe tbody tr th:only-of-type {\n",
       "        vertical-align: middle;\n",
       "    }\n",
       "\n",
       "    .dataframe tbody tr th {\n",
       "        vertical-align: top;\n",
       "    }\n",
       "\n",
       "    .dataframe thead th {\n",
       "        text-align: right;\n",
       "    }\n",
       "</style>\n",
       "<table border=\"1\" class=\"dataframe\">\n",
       "  <thead>\n",
       "    <tr style=\"text-align: right;\">\n",
       "      <th></th>\n",
       "      <th>Open</th>\n",
       "    </tr>\n",
       "    <tr>\n",
       "      <th>Date</th>\n",
       "      <th></th>\n",
       "    </tr>\n",
       "  </thead>\n",
       "  <tbody>\n",
       "    <tr>\n",
       "      <th>2017-01-03</th>\n",
       "      <td>778.81</td>\n",
       "    </tr>\n",
       "    <tr>\n",
       "      <th>2017-01-04</th>\n",
       "      <td>788.36</td>\n",
       "    </tr>\n",
       "    <tr>\n",
       "      <th>2017-01-05</th>\n",
       "      <td>786.08</td>\n",
       "    </tr>\n",
       "    <tr>\n",
       "      <th>2017-01-06</th>\n",
       "      <td>795.26</td>\n",
       "    </tr>\n",
       "    <tr>\n",
       "      <th>2017-01-09</th>\n",
       "      <td>806.40</td>\n",
       "    </tr>\n",
       "  </tbody>\n",
       "</table>\n",
       "</div>"
      ],
      "text/plain": [
       "              Open\n",
       "Date              \n",
       "2017-01-03  778.81\n",
       "2017-01-04  788.36\n",
       "2017-01-05  786.08\n",
       "2017-01-06  795.26\n",
       "2017-01-09  806.40"
      ]
     },
     "execution_count": 28,
     "metadata": {},
     "output_type": "execute_result"
    }
   ],
   "source": [
    "test_set.head()"
   ]
  },
  {
   "cell_type": "code",
   "execution_count": 30,
   "id": "fd30a9c2",
   "metadata": {},
   "outputs": [],
   "source": [
    "#getting the predicted stock price of 2017\n",
    "dataset_total=pd.concat((df['Open'],df_test['Open']),axis=0)"
   ]
  },
  {
   "cell_type": "code",
   "execution_count": 31,
   "id": "eddc2d8d",
   "metadata": {},
   "outputs": [
    {
     "data": {
      "text/plain": [
       "Date\n",
       "2012-01-03    325.25\n",
       "2012-01-04    331.27\n",
       "2012-01-05    329.83\n",
       "2012-01-06    328.34\n",
       "2012-01-09    322.04\n",
       "               ...  \n",
       "2017-01-25    829.62\n",
       "2017-01-26    837.81\n",
       "2017-01-27    834.71\n",
       "2017-01-30    814.66\n",
       "2017-01-31    796.86\n",
       "Name: Open, Length: 1278, dtype: float64"
      ]
     },
     "execution_count": 31,
     "metadata": {},
     "output_type": "execute_result"
    }
   ],
   "source": [
    "dataset_total"
   ]
  },
  {
   "cell_type": "code",
   "execution_count": 32,
   "id": "907cb90c",
   "metadata": {},
   "outputs": [
    {
     "data": {
      "text/plain": [
       "(1278,)"
      ]
     },
     "execution_count": 32,
     "metadata": {},
     "output_type": "execute_result"
    }
   ],
   "source": [
    "dataset_total.shape"
   ]
  },
  {
   "cell_type": "code",
   "execution_count": 35,
   "id": "1cfa582e",
   "metadata": {},
   "outputs": [
    {
     "data": {
      "text/plain": [
       "Date\n",
       "2017-01-13    807.48\n",
       "2017-01-17    807.08\n",
       "2017-01-18    805.81\n",
       "2017-01-19    805.12\n",
       "2017-01-20    806.91\n",
       "2017-01-23    807.25\n",
       "2017-01-24    822.30\n",
       "2017-01-25    829.62\n",
       "2017-01-26    837.81\n",
       "2017-01-27    834.71\n",
       "2017-01-30    814.66\n",
       "2017-01-31    796.86\n",
       "Name: Open, dtype: float64"
      ]
     },
     "execution_count": 35,
     "metadata": {},
     "output_type": "execute_result"
    }
   ],
   "source": [
    "dataset_total.tail(12)"
   ]
  },
  {
   "cell_type": "code",
   "execution_count": 39,
   "id": "6347d35c",
   "metadata": {},
   "outputs": [
    {
     "name": "stderr",
     "output_type": "stream",
     "text": [
      "C:\\Users\\lenovo\\anaconda3\\lib\\site-packages\\sklearn\\base.py:450: UserWarning: X does not have valid feature names, but MinMaxScaler was fitted with feature names\n",
      "  warnings.warn(\n"
     ]
    },
    {
     "name": "stdout",
     "output_type": "stream",
     "text": [
      "1/1 [==============================] - 1s 1s/step\n"
     ]
    }
   ],
   "source": [
    "inputs=dataset_total[len(dataset_total)-len(df_test)-100:].values\n",
    "inputs=inputs.reshape(-1,1)\n",
    "inputs=sc.transform(inputs)\n",
    "X_test=[]\n",
    "for i in range(100,120):\n",
    "    X_test.append(inputs[i-100:i,0])\n",
    "X_test=np.array(X_test)\n",
    "X_test=np.reshape(X_test,(X_test.shape[0],X_test.shape[1],1))\n",
    "predicted_stock_price=model.predict(X_test)\n",
    "predicted_stock_price=sc.inverse_transform(predicted_stock_price)"
   ]
  },
  {
   "cell_type": "code",
   "execution_count": 40,
   "id": "bac7cc2d",
   "metadata": {},
   "outputs": [],
   "source": [
    "predicted_stock_price=pd.DataFrame(predicted_stock_price)\n"
   ]
  },
  {
   "cell_type": "code",
   "execution_count": 41,
   "id": "14522d74",
   "metadata": {},
   "outputs": [
    {
     "data": {
      "text/html": [
       "<div>\n",
       "<style scoped>\n",
       "    .dataframe tbody tr th:only-of-type {\n",
       "        vertical-align: middle;\n",
       "    }\n",
       "\n",
       "    .dataframe tbody tr th {\n",
       "        vertical-align: top;\n",
       "    }\n",
       "\n",
       "    .dataframe thead th {\n",
       "        text-align: right;\n",
       "    }\n",
       "</style>\n",
       "<table border=\"1\" class=\"dataframe\">\n",
       "  <thead>\n",
       "    <tr style=\"text-align: right;\">\n",
       "      <th></th>\n",
       "      <th>0</th>\n",
       "    </tr>\n",
       "  </thead>\n",
       "  <tbody>\n",
       "    <tr>\n",
       "      <th>0</th>\n",
       "      <td>801.570557</td>\n",
       "    </tr>\n",
       "    <tr>\n",
       "      <th>1</th>\n",
       "      <td>798.894714</td>\n",
       "    </tr>\n",
       "    <tr>\n",
       "      <th>2</th>\n",
       "      <td>799.754028</td>\n",
       "    </tr>\n",
       "    <tr>\n",
       "      <th>3</th>\n",
       "      <td>801.396545</td>\n",
       "    </tr>\n",
       "    <tr>\n",
       "      <th>4</th>\n",
       "      <td>805.054321</td>\n",
       "    </tr>\n",
       "    <tr>\n",
       "      <th>5</th>\n",
       "      <td>811.155090</td>\n",
       "    </tr>\n",
       "    <tr>\n",
       "      <th>6</th>\n",
       "      <td>816.092957</td>\n",
       "    </tr>\n",
       "    <tr>\n",
       "      <th>7</th>\n",
       "      <td>817.449036</td>\n",
       "    </tr>\n",
       "    <tr>\n",
       "      <th>8</th>\n",
       "      <td>817.341248</td>\n",
       "    </tr>\n",
       "    <tr>\n",
       "      <th>9</th>\n",
       "      <td>816.999512</td>\n",
       "    </tr>\n",
       "    <tr>\n",
       "      <th>10</th>\n",
       "      <td>816.914978</td>\n",
       "    </tr>\n",
       "    <tr>\n",
       "      <th>11</th>\n",
       "      <td>816.922607</td>\n",
       "    </tr>\n",
       "    <tr>\n",
       "      <th>12</th>\n",
       "      <td>817.027039</td>\n",
       "    </tr>\n",
       "    <tr>\n",
       "      <th>13</th>\n",
       "      <td>817.849670</td>\n",
       "    </tr>\n",
       "    <tr>\n",
       "      <th>14</th>\n",
       "      <td>818.921509</td>\n",
       "    </tr>\n",
       "    <tr>\n",
       "      <th>15</th>\n",
       "      <td>824.073364</td>\n",
       "    </tr>\n",
       "    <tr>\n",
       "      <th>16</th>\n",
       "      <td>831.063782</td>\n",
       "    </tr>\n",
       "    <tr>\n",
       "      <th>17</th>\n",
       "      <td>838.143311</td>\n",
       "    </tr>\n",
       "    <tr>\n",
       "      <th>18</th>\n",
       "      <td>841.110718</td>\n",
       "    </tr>\n",
       "    <tr>\n",
       "      <th>19</th>\n",
       "      <td>835.414307</td>\n",
       "    </tr>\n",
       "  </tbody>\n",
       "</table>\n",
       "</div>"
      ],
      "text/plain": [
       "             0\n",
       "0   801.570557\n",
       "1   798.894714\n",
       "2   799.754028\n",
       "3   801.396545\n",
       "4   805.054321\n",
       "5   811.155090\n",
       "6   816.092957\n",
       "7   817.449036\n",
       "8   817.341248\n",
       "9   816.999512\n",
       "10  816.914978\n",
       "11  816.922607\n",
       "12  817.027039\n",
       "13  817.849670\n",
       "14  818.921509\n",
       "15  824.073364\n",
       "16  831.063782\n",
       "17  838.143311\n",
       "18  841.110718\n",
       "19  835.414307"
      ]
     },
     "execution_count": 41,
     "metadata": {},
     "output_type": "execute_result"
    }
   ],
   "source": [
    "predicted_stock_price"
   ]
  },
  {
   "cell_type": "code",
   "execution_count": 42,
   "id": "99d6a549",
   "metadata": {},
   "outputs": [
    {
     "name": "stdout",
     "output_type": "stream",
     "text": [
      "<class 'pandas.core.frame.DataFrame'>\n",
      "RangeIndex: 20 entries, 0 to 19\n",
      "Data columns (total 1 columns):\n",
      " #   Column  Non-Null Count  Dtype  \n",
      "---  ------  --------------  -----  \n",
      " 0   0       20 non-null     float32\n",
      "dtypes: float32(1)\n",
      "memory usage: 208.0 bytes\n"
     ]
    }
   ],
   "source": [
    "predicted_stock_price.info()"
   ]
  },
  {
   "cell_type": "code",
   "execution_count": 46,
   "id": "376bb9bd",
   "metadata": {},
   "outputs": [
    {
     "data": {
      "image/png": "[encoded data removed]",
      "text/plain": [
       "<Figure size 432x288 with 1 Axes>"
      ]
     },
     "metadata": {
      "needs_background": "light"
     },
     "output_type": "display_data"
    }
   ],
   "source": [
    "#visualize the result\n",
    "plt.plot(real_stock_price,color='r',label='Real google price stock')\n",
    "plt.plot(predicted_stock_price,color='g',label='Predicted google price stock')\n",
    "plt.xlabel('Time')\n",
    "plt.ylabel('Google stock price')\n",
    "plt.legend()\n",
    "plt.show()"
   ]
  },
  {
   "cell_type": "code",
   "execution_count": null,
   "id": "afadb26c",
   "metadata": {},
   "outputs": [],
   "source": []
  }
 ],
 "metadata": {
  "kernelspec": {
   "display_name": "Python 3 (ipykernel)",
   "language": "python",
   "name": "python3"
  },
  "language_info": {
   "codemirror_mode": {
    "name": "ipython",
    "version": 3
   },
   "file_extension": ".py",
   "mimetype": "text/x-python",
   "name": "python",
   "nbconvert_exporter": "python",
   "pygments_lexer": "ipython3",
   "version": "3.9.12"
  }
 },
 "nbformat": 4,
 "nbformat_minor": 5
}
